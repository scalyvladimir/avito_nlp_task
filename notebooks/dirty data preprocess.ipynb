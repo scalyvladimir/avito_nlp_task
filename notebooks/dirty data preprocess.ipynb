{
 "cells": [
  {
   "cell_type": "markdown",
   "id": "75b43baa",
   "metadata": {},
   "source": [
    "# 1. Описание\n",
    "\n",
    "Мы предлагаем решить две задачи:\n",
    " 1. Определить есть ли в объявлении контактная информация \n",
    " 2. Найти положение контактной информации в описании объявлении\n",
    "\n",
    "Первая задача обязательная. Вторая - со звездочкой, можете решить ее если останется время или желание :)\n",
    "\n",
    "## 1.1 Датасет\n",
    "Для обучения и инференса обоих задач у вас есть следующие поля:\n",
    "* `title` - заголовок,\n",
    "* `description` - описание,\n",
    "* `subcategory` - подкатегория,\n",
    "* `category` - категория,\n",
    "* `price` - цена,\n",
    "* `region` - регион,\n",
    "* `city` - город,\n",
    "* `datetime_submitted` - дата размещения.\n",
    "\n",
    "Таргет первой задачи: `is_bad`. Для второй разметка не предоставляется.\n",
    "\n",
    "Есть два датасета: `train.csv` и `val.csv`. \n",
    "В датасетах могут встречаться (как и, к сожалению, в любых размечаемых данных) некорректные метки.\n",
    "\n",
    "`train.csv` содержит больше данных, однако разметка в нём менее точная.\n",
    "\n",
    "В `val.csv` существенно меньше данных, но более точная разметка.\n",
    "\n",
    "Тестовый датасет, на котором мы оценим решение, будет больше похож на `val.csv`.\n",
    "\n",
    "`val.csv` находится в папке `./data`. \n",
    "`train.csv` можно качать скриптом `./data/get_train_data.sh` или перейдя по \n",
    "[ссылке](https://drive.google.com/file/d/1LpjC4pNCUH51U_QuEA-I1oY6dYjfb7AL/view?usp=sharing) \n",
    "\n",
    "## 1.2 Задача 1\n",
    "В первой задаче необходимо оценить вероятность наличия в объявлении контактной информации. \n",
    "Результатом работы модели является `pd.DataFrame` с колонками:\n",
    "* `index`: `int`, положение записи в файле;\n",
    "* `prediction`: `float` от 0 до 1.\n",
    "\n",
    "Пример:\n",
    "\n",
    "|index  |prediction|\n",
    "|-------|----------|\n",
    "|0|0.12|\n",
    "|1|0.95|\n",
    "|...|...|\n",
    "|N|0.68|\n",
    "\n",
    "В качестве метрики качества работы вашей модели мы будем использовать усредненный `ROC-AUC` по каждой категории объявлений.\n",
    "\n",
    "## 1.3 Задача 2\n",
    "\n",
    "Во второй задаче необходимо предсказать начало и конец контактной информации в описании (`description`) объявления. \n",
    "Например:\n",
    "* для строки `Звоните на +7-888-888-88-88, в объявлении некорректный номер`: (11, 26),\n",
    "* для строки `Звоните на +7-888aaaaa888aaaa88a88, в объявлении некорректный номер`: (11, 33),\n",
    "* для строки `мой tg: @ivanicki_i на звонки не отвечаю`: (8, 18),\n",
    "* для строки `мой tg: ivanicki_i на звонки не отвечаю`: (8, 17),\n",
    "* если в описании объявления (поле `description`) контактов нет, то (None, None)\n",
    "* если в описании объявления (поле `description`) более одного контакта (`Звоните не 89990000000 или на 89991111111`), то (None, None).\n",
    "\n",
    "Результатом работы модели является `pd.DataFrame` с колонками:\n",
    "* `index`: `int`, положение записи в файле;\n",
    "* `start`: `int` or `None`, начало маски контакта;\n",
    "* `finish`: `int` or `None`, конец маски контакта.\\\n",
    "(`start` < `finish`)\n",
    "  \n",
    "Пример:\n",
    "\n",
    "|index  |start|finish|\n",
    "|-------|----------|-----|\n",
    "|0|None|None|\n",
    "|1|0|23\n",
    "|2|31|123\n",
    "|...|...|\n",
    "|N|None|None\n",
    "\n",
    "\n",
    "Для этой задачи метрикой будет усредненный IoU (`Intersection over Union`) по текстам объявлений.\n",
    "\n",
    "# 2. Запуск решения\n",
    "\n",
    "Ваш код для обучения и инференса моделей должен располагаться в папке `./lib`. \n",
    "\n",
    "Чтобы мы могли проверить ваше решение необходимо изменить метод `process` класса `Test` в файле `./lib/run.py`. \n",
    "\n",
    "В нем происходит инференс вашей модели на тестовых данных. \n",
    "\n",
    "Метод должен возвращать два датафрейма с ответами к задачам 1 и 2 соответственно.\n",
    "\n",
    "Вы можете получить доступ к валидационным, трейновым (если файл скачан) и тестовым данным с помощью методов 'val', 'train' и 'test'.\n",
    "\n",
    "\n",
    "Для того чтобы было легче разобраться как происходит запуск моделей мы подготовили константные \n",
    "\"модели\" (`./lib/model.py`), которые примеряются в `./lib/run.py` для формирования финального ответа.\n",
    "\n",
    "Форматы тестового файла (в нем будет отсутствовать стобец `is_bad`), ответов зачач 1 и 2 приведены выше. \n",
    "После прогона будут запущены минимальные чекеры на соответствие ответов описанному формату\n",
    "\n",
    "Решение будет проверяться в автоматическом режиме. \n",
    "Перед отправкой решения вам необходимо убедиться что все работает корректно запустив команду \n",
    "`docker-compose -f docker-compose.yaml up` в корне данного репозитория. \n",
    "Весь локальный код репозитория мапится в папку `/app` контейнера, локальная папка `./data` мапится в `/data` контейнера.\n",
    "После этого запускается команда `python lib/run.py --debug`.\n",
    "Чтобы все заработало у вас в системе должны быть установлены `docker` и `docker-compose`.\n",
    "\n",
    "Вы можете добавить нужные библиотеки в файл `requirements.txt` или напрямую в `Dockerfile`.\n",
    "\n",
    "Во время инференса моделей у контейнера не будет доступа в интернет. \n",
    "\n",
    "Обратите внимание, что в контейнере по умолчанию используется python3.8.\n",
    "\n",
    "# 3. Ресурсы\n",
    "\n",
    "Ресурсы контейнера:\n",
    "* 4 Гб оперативной памяти\n",
    "* 2 ядра CPU\n",
    "* 1 GPU, 2 Гб памяти\n",
    "\n",
    "Ограничение на время работы:\n",
    "* 60 000 объектов должны обрабатываться не более 180 минут для предсохраненной модели на CPU и 30 минут на GPU.\n",
    "\n",
    "**Важно, чтобы всё, что нужно для запуска run.py, было в репозитории.**\\\n",
    "Часто решающие предлагают перед запуском вручную скачать архив с весами модели, в таком случае нужно чтобы веса скачивались и распаковывались при сборке контейнера либо обучение происходило в пайплайне.\n",
    "\n",
    "# 4. Как сдать решение\n",
    "- Убедиться, что команда `docker-compose -f docker-compose.yaml up` работает корректно.\n",
    "- Закоммитить код для обучения и инференса модели в master\n",
    "- Открыть issue в своем репозитории и добавить учетку avito-ds (https://github.com/avito-ds) в Assignes. Если это не первая попытка, то можно переоткрыть старый issue, все так же добавив avito-ds в качестве assignee. \n",
    "- Предупредить рекрутера Авито/контакта из кадрового агентства о том, что ты выложил финальный результат и прислать ссылку на issue!\n",
    "\n",
    "Удачи :)\n",
    "\n",
    "# 5. Как задать вопрос\n",
    "Создать issue с вопросом и добавить учетку avito-ds в качестве assignee.\n",
    "\n",
    "# 6. FAQ.\n",
    "**Веса моей модели весят много, могу ли я добавить веса через git LFS?**\n",
    "\n",
    "Через git LFS нет, но есть workaround. В git можно свободно коммитить файлы до 100 мб. Для файлов большего размера должна применяться git LFS, причем для \n",
    "форкнутых репозиториев применяется квота avito-ds. Текущая квота не достаточна для этих целей. В качестве workaround\n",
    "можно добавить команду или скрипт на скачивание весов из облака в Dockerfile. \n",
    "\n",
    "# Baseline\n",
    "\n",
    "Текущий бэйзлайн, который надо побить для первой части - 0.92.\n",
    "​\n"
   ]
  },
  {
   "cell_type": "code",
   "execution_count": 3,
   "id": "9a23d9b3",
   "metadata": {},
   "outputs": [
    {
     "name": "stdout",
     "output_type": "stream",
     "text": [
      "Dockerfile  Untitled.ipynb  docker-compose.yaml  requirements.txt\r\n",
      "README.md   data\t    lib\r\n"
     ]
    }
   ],
   "source": [
    "!ls"
   ]
  },
  {
   "cell_type": "code",
   "execution_count": 4,
   "id": "878cbd2b",
   "metadata": {},
   "outputs": [
    {
     "name": "stdout",
     "output_type": "stream",
     "text": [
      "get_train_data.sh  train.csv  val.csv\r\n"
     ]
    }
   ],
   "source": [
    "!ls data"
   ]
  },
  {
   "cell_type": "code",
   "execution_count": 2,
   "id": "698e883e",
   "metadata": {},
   "outputs": [],
   "source": [
    "import pandas as pd"
   ]
  },
  {
   "cell_type": "code",
   "execution_count": 3,
   "id": "8513f26b",
   "metadata": {},
   "outputs": [],
   "source": [
    "train = pd.read_csv('data/train.csv')\n",
    "val = pd.read_csv('data/val.csv')"
   ]
  },
  {
   "cell_type": "code",
   "execution_count": 5,
   "id": "f5432002",
   "metadata": {},
   "outputs": [],
   "source": [
    "auxillary_features = ['description', 'title', 'datetime_submitted', 'is_bad', 'price']\n",
    "\n",
    "num_features = ['price']\n",
    "\n",
    "cat_features = train.columns._data[~train._mgr.items.isin(auxillary_features)].tolist()\n",
    "\n",
    "text_features = ['sign']\n",
    "\n",
    "target = ['is_bad']"
   ]
  },
  {
   "cell_type": "code",
   "execution_count": 75,
   "id": "2e34fb4e",
   "metadata": {},
   "outputs": [],
   "source": [
    "pd_data = train.copy()\n",
    "pd_data[text_features[0]] = pd_data['title'] + ' ' + pd_data['description']\n",
    "\n",
    "pd_val_data = val.copy() \n",
    "pd_val_data[text_features[0]] = val['title'] + ' ' +  val['description']"
   ]
  },
  {
   "cell_type": "code",
   "execution_count": 76,
   "id": "deae0c0a",
   "metadata": {},
   "outputs": [],
   "source": [
    "X_train = pd_data[cat_features + text_features + num_features].copy()\n",
    "y_train = pd_data[target].copy()\n",
    "\n",
    "X_val = pd_val_data[cat_features + text_features + num_features].copy()\n",
    "y_val = pd_val_data[target].copy()"
   ]
  },
  {
   "cell_type": "code",
   "execution_count": 10,
   "id": "952d3521",
   "metadata": {},
   "outputs": [],
   "source": [
    "import matplotlib.pyplot as plt"
   ]
  },
  {
   "cell_type": "code",
   "execution_count": 77,
   "id": "5177bc28",
   "metadata": {},
   "outputs": [
    {
     "data": {
      "image/png": "[encoded data removed]",
      "text/plain": [
       "<Figure size 720x360 with 2 Axes>"
      ]
     },
     "metadata": {
      "needs_background": "light"
     },
     "output_type": "display_data"
    }
   ],
   "source": [
    "_, axes = plt.subplots(figsize=(10, 5), nrows=2, sharex=True)\n",
    "\n",
    "axes[0].hist(y_train)\n",
    "axes[0].set_title('Train class distribution')\n",
    "\n",
    "axes[1].hist(y_val)\n",
    "axes[1].set_title('Val class distribution')\n",
    "\n",
    "plt.show()"
   ]
  },
  {
   "cell_type": "markdown",
   "id": "30d3b3bc",
   "metadata": {},
   "source": [
    "This is the exact cause we should use weighted roc-auc"
   ]
  },
  {
   "cell_type": "markdown",
   "id": "60c6ecb5",
   "metadata": {},
   "source": [
    "## Data filtering"
   ]
  },
  {
   "cell_type": "code",
   "execution_count": 41,
   "id": "c5425c51",
   "metadata": {},
   "outputs": [
    {
     "name": "stderr",
     "output_type": "stream",
     "text": [
      "[nltk_data] Downloading package stopwords to /root/nltk_data...\n",
      "[nltk_data]   Package stopwords is already up-to-date!\n"
     ]
    }
   ],
   "source": [
    "import nltk\n",
    "nltk.download(\"stopwords\")\n",
    "#--------#\n",
    "\n",
    "from nltk.corpus import stopwords\n",
    "from pymystem3 import Mystem\n",
    "from pandarallel import pandarallel\n",
    "from functools import partial\n",
    "\n",
    "#Create lemmatizer and stopwords list\n",
    "mystem = Mystem() \n",
    "russian_stopwords = stopwords.words(\"russian\")"
   ]
  },
  {
   "cell_type": "code",
   "execution_count": 65,
   "id": "83599a44",
   "metadata": {},
   "outputs": [
    {
     "name": "stdout",
     "output_type": "stream",
     "text": [
      "INFO: Pandarallel will run on 40 workers.\n",
      "INFO: Pandarallel will use standard multiprocessing data transfer (pipe) to transfer data between the main process and workers.\n"
     ]
    }
   ],
   "source": [
    "pandarallel.initialize(progress_bar=False, use_memory_fs=False)"
   ]
  },
  {
   "cell_type": "code",
   "execution_count": 79,
   "id": "5bd0efdb",
   "metadata": {},
   "outputs": [],
   "source": [
    "def precrocess_data(row, stopwords_list, punctuation_list, stem_obj):\n",
    "    \n",
    "    tokens = mystem.lemmatize(row.lower())\n",
    "    \n",
    "    row = ' '.join([\n",
    "        text for text in tokens if text not in stopwords_list \\\n",
    "        and text != ' ' \\\n",
    "        and text.strip() not in punctuation\n",
    "    ])\n",
    "\n",
    "    return row\n",
    "\n",
    "prep_data_func = partial(precrocess_data, stopwords_list=russian_stopwords, punctuation_list=punctuation, stem_obj=mystem)"
   ]
  },
  {
   "cell_type": "code",
   "execution_count": 94,
   "id": "2d09a9cf",
   "metadata": {},
   "outputs": [
    {
     "name": "stdout",
     "output_type": "stream",
     "text": [
      "Before: 2337 megabytes\n",
      "After: 1392 megabytes\n",
      "CPU times: user 9.18 s, sys: 14.5 s, total: 23.6 s\n",
      "Wall time: 12min 18s\n"
     ]
    }
   ],
   "source": [
    "%%time\n",
    "\n",
    "X_train_processed = X_train.copy()\n",
    "\n",
    "print('Before:', int(X_train.memory_usage(deep=True).sum() / 2**20), 'megabytes')\n",
    "\n",
    "X_train_processed.sign = X_train.sign.parallel_apply(prep_data_func)\n",
    "\n",
    "print('After:', int(X_train_processed.memory_usage(deep=True).sum() / 2**20), 'megabytes')"
   ]
  },
  {
   "cell_type": "code",
   "execution_count": 92,
   "id": "37d12491",
   "metadata": {},
   "outputs": [
    {
     "name": "stdout",
     "output_type": "stream",
     "text": [
      "Before: 51 megabytes\n",
      "After: 30 megabytes\n",
      "CPU times: user 257 ms, sys: 7.12 s, total: 7.38 s\n",
      "Wall time: 30.5 s\n"
     ]
    }
   ],
   "source": [
    "%%time\n",
    "\n",
    "X_val_processed = X_val.copy()\n",
    "\n",
    "print('Before:', int(X_val.memory_usage(deep=True).sum() / 2**20), 'megabytes')\n",
    "\n",
    "X_val_processed.sign = X_val.sign.parallel_apply(prep_data_func)\n",
    "\n",
    "print('After:', int(X_val_processed.memory_usage(deep=True).sum() / 2**20), 'megabytes')"
   ]
  },
  {
   "cell_type": "markdown",
   "id": "ca17b99b",
   "metadata": {},
   "source": [
    "## Regexps experiments"
   ]
  },
  {
   "cell_type": "code",
   "execution_count": 33,
   "id": "899e96bc",
   "metadata": {},
   "outputs": [],
   "source": [
    "import re\n",
    "\n",
    "def apply_regexps(X, regexps_list):\n",
    "    res = X.sign\n",
    "\n",
    "    for pattern, rep_string in regexps_list:\n",
    "        pat = re.compile(pattern, re.I)\n",
    "\n",
    "        res = re.sub(pat, rep_string, res)\n",
    "    \n",
    "    X.sign = res\n",
    "    \n",
    "    return X"
   ]
  },
  {
   "cell_type": "code",
   "execution_count": 19,
   "id": "bf25d85d",
   "metadata": {},
   "outputs": [],
   "source": [
    "regexps_list = [\n",
    "    (r'([а-яё]*)[ ,.\\-]*([а-яё]+)', ' '), # russian words with zero or more separators\n",
    "#     (r'([a-z]{10,})', ' '), # english words with 10 or more characters\n",
    "    (r'[\\n;]', ' '), # new lines and strange separators\n",
    "    (r'[ ]{2,}', ''), # sequences of 2 or more whitespaces\n",
    "    (r' / ', ' '), # lonely slashes\n",
    "    (r'[ \\t,.!]*$', ''), # symbols in the end of line\n",
    "    (r'^[ \\t,.!]*', ''), # symbols in the beginning of line\n",
    "]"
   ]
  },
  {
   "cell_type": "code",
   "execution_count": 20,
   "id": "e08e15d8",
   "metadata": {},
   "outputs": [],
   "source": [
    "def preprocess_with_regexps(X):\n",
    "    return X.apply(lambda x: apply_regexps(x, regexps_list), axis=1)"
   ]
  },
  {
   "cell_type": "code",
   "execution_count": 34,
   "id": "7b441052",
   "metadata": {},
   "outputs": [
    {
     "name": "stdout",
     "output_type": "stream",
     "text": [
      "CPU times: user 4min 28s, sys: 4.99 s, total: 4min 33s\n",
      "Wall time: 4min 33s\n"
     ]
    }
   ],
   "source": [
    "%%time\n",
    "X_train_processed = preprocess_with_regexps(X_train_processed)"
   ]
  },
  {
   "cell_type": "code",
   "execution_count": 35,
   "id": "79cb9745",
   "metadata": {},
   "outputs": [
    {
     "name": "stdout",
     "output_type": "stream",
     "text": [
      "CPU times: user 4.85 s, sys: 20.2 ms, total: 4.87 s\n",
      "Wall time: 4.86 s\n"
     ]
    }
   ],
   "source": [
    "%%time\n",
    "X_val_processed = preprocess_with_regexps(X_val_processed)"
   ]
  },
  {
   "cell_type": "code",
   "execution_count": 96,
   "id": "a76888e9",
   "metadata": {},
   "outputs": [],
   "source": [
    "X_val_processed.to_csv('data/val_processed.csv') "
   ]
  },
  {
   "cell_type": "code",
   "execution_count": 95,
   "id": "e63d4f72",
   "metadata": {},
   "outputs": [],
   "source": [
    "X_train_processed.to_csv('data/train_processed.csv') "
   ]
  }
 ],
 "metadata": {
  "kernelspec": {
   "display_name": "Python 3 (ipykernel)",
   "language": "python",
   "name": "python3"
  },
  "language_info": {
   "codemirror_mode": {
    "name": "ipython",
    "version": 3
   },
   "file_extension": ".py",
   "mimetype": "text/x-python",
   "name": "python",
   "nbconvert_exporter": "python",
   "pygments_lexer": "ipython3",
   "version": "3.8.12"
  }
 },
 "nbformat": 4,
 "nbformat_minor": 5
}
